{
 "cells": [
  {
   "cell_type": "code",
   "execution_count": 35,
   "id": "198e65e5",
   "metadata": {},
   "outputs": [],
   "source": [
    "import torch\n",
    "from torch.utils.tensorboard import SummaryWriter\n",
    "import numpy as np\n",
    "import matplotlib.pyplot as plt\n",
    "import scipy\n",
    "from PIL import Image\n",
    "import torchvision\n",
    "import datetime\n",
    "import os\n",
    "%matplotlib inline"
   ]
  },
  {
   "cell_type": "code",
   "execution_count": 36,
   "id": "efc0dfa9",
   "metadata": {},
   "outputs": [],
   "source": [
    "path = '/Users/jokkojja/Desktop/course/pytorch/data'"
   ]
  },
  {
   "cell_type": "code",
   "execution_count": 37,
   "id": "db836b19",
   "metadata": {},
   "outputs": [],
   "source": [
    "logdir = os.path.join('logs', datetime.datetime.now().strftime(\"%Y%m%d - %H%M%S\"))\n",
    "writer = SummaryWriter(logdir)\n"
   ]
  },
  {
   "cell_type": "code",
   "execution_count": 39,
   "id": "e0be5a11",
   "metadata": {},
   "outputs": [],
   "source": [
    "input_size = 1024\n",
    "n_class = 10\n",
    "epochs = 10\n",
    "step = 1e-2\n",
    "hidden = 500\n",
    "\n",
    "batch_size = 100"
   ]
  },
  {
   "cell_type": "code",
   "execution_count": 41,
   "id": "ba36d931",
   "metadata": {},
   "outputs": [],
   "source": [
    "cifar10_train = torchvision.datasets.CIFAR10(\n",
    "    path, \n",
    "    train=True, \n",
    "    transform = torchvision.transforms.ToTensor(),\n",
    "    download=False)\n",
    "\n",
    "cifar10_test = torchvision.datasets.CIFAR10(\n",
    "    path, \n",
    "    train=False, \n",
    "    transform = torchvision.transforms.ToTensor(),\n",
    "    download=False)\n",
    "\n",
    "\n",
    "train_loader = torch.utils.data.DataLoader(dataset = cifar10_train,\n",
    "                                          batch_size = batch_size,\n",
    "                                          shuffle = True)\n",
    "\n",
    "test_loader = torch.utils.data.DataLoader(dataset = cifar10_test,\n",
    "                                          batch_size = batch_size,\n",
    "                                          shuffle = True)"
   ]
  },
  {
   "cell_type": "code",
   "execution_count": 42,
   "id": "bb06f98e",
   "metadata": {},
   "outputs": [],
   "source": [
    "data_iter = iter(train_loader)\n",
    "train_x, train_y = data_iter.next()"
   ]
  },
  {
   "cell_type": "code",
   "execution_count": 43,
   "id": "faa0ff9e",
   "metadata": {},
   "outputs": [
    {
     "data": {
      "text/plain": [
       "<matplotlib.image.AxesImage at 0x7f837cc5e340>"
      ]
     },
     "execution_count": 43,
     "metadata": {},
     "output_type": "execute_result"
    },
    {
     "data": {
      "image/png": "[encoded data removed]",
      "text/plain": [
       "<Figure size 432x288 with 1 Axes>"
      ]
     },
     "metadata": {
      "needs_background": "light"
     },
     "output_type": "display_data"
    }
   ],
   "source": [
    "plt.imshow(train_x[0,0])"
   ]
  },
  {
   "cell_type": "code",
   "execution_count": 53,
   "id": "e4cbc183",
   "metadata": {},
   "outputs": [],
   "source": [
    "class CustomClassification(torch.nn.Module):\n",
    "    def __init__(self, input_size, hidden_size, num_classes):\n",
    "        super(CustomClassification, self).__init__()\n",
    "        self.layer1 = torch.nn.Linear(input_size, hidden_size)\n",
    "        self.relu = torch.nn.ReLU()\n",
    "        self.layer2 = torch.nn.Linear(hidden_size, num_classes)\n",
    "        self.soft_max = torch.nn.Softmax()\n",
    "    \n",
    "    def forward(self, x):\n",
    "        out = self.layer1(x)\n",
    "        oot = self.relu(out)\n",
    "        out = self.layer2(out)\n",
    "        return self.soft_max(out)"
   ]
  },
  {
   "cell_type": "code",
   "execution_count": 54,
   "id": "4c0b16db",
   "metadata": {},
   "outputs": [],
   "source": [
    "model = CustomClassification(input_size, hidden, n_class)"
   ]
  },
  {
   "cell_type": "code",
   "execution_count": null,
   "id": "3c653f57",
   "metadata": {},
   "outputs": [],
   "source": []
  }
 ],
 "metadata": {
  "kernelspec": {
   "display_name": "Python 3",
   "language": "python",
   "name": "python3"
  },
  "language_info": {
   "codemirror_mode": {
    "name": "ipython",
    "version": 3
   },
   "file_extension": ".py",
   "mimetype": "text/x-python",
   "name": "python",
   "nbconvert_exporter": "python",
   "pygments_lexer": "ipython3",
   "version": "3.8.8"
  }
 },
 "nbformat": 4,
 "nbformat_minor": 5
}
