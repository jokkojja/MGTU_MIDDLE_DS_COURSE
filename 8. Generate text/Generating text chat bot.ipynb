{
 "cells": [
  {
   "cell_type": "code",
   "execution_count": 1,
   "id": "535fe71c",
   "metadata": {},
   "outputs": [],
   "source": [
    "import pandas as pd\n",
    "import numpy as np\n",
    "\n",
    "from tensorflow.keras.models import Model, load_model\n",
    "from tensorflow.keras.layers import LSTM, Embedding, Dense, Input\n",
    "from tensorflow.keras.optimizers import RMSprop, Adadelta\n",
    "from tensorflow.keras.preprocessing.sequence import pad_sequences\n",
    "from tensorflow.keras.preprocessing.text import Tokenizer\n",
    "from tensorflow.keras import utils\n",
    "from tensorflow.keras.utils import plot_model\n",
    "\n",
    "import yaml"
   ]
  },
  {
   "cell_type": "code",
   "execution_count": 2,
   "id": "8b92c535",
   "metadata": {},
   "outputs": [],
   "source": [
    "path = '/Users/jokkojja/Downloads/ijcnlp_dailydialog/dialogues_text.txt'"
   ]
  },
  {
   "cell_type": "markdown",
   "id": "68e88828",
   "metadata": {},
   "source": [
    "# Preparing data"
   ]
  },
  {
   "cell_type": "code",
   "execution_count": 4,
   "id": "799cc8c0",
   "metadata": {},
   "outputs": [],
   "source": [
    "with open(path, 'r') as file:\n",
    "    document = file.read()"
   ]
  },
  {
   "cell_type": "code",
   "execution_count": 15,
   "id": "f7f4731c",
   "metadata": {},
   "outputs": [],
   "source": [
    "document = document.replace('__eou__', '').split('\\n')"
   ]
  },
  {
   "cell_type": "code",
   "execution_count": 28,
   "id": "d7686c83",
   "metadata": {},
   "outputs": [],
   "source": [
    "test_doc = document[:10]\n",
    "document = [sent.split('?') for sent in document] # naive approach"
   ]
  },
  {
   "cell_type": "code",
   "execution_count": 41,
   "id": "25092f04",
   "metadata": {},
   "outputs": [],
   "source": [
    "# question-answer tags\n",
    "\n",
    "questions = []\n",
    "answers = []\n",
    "\n",
    "# process dialog\n",
    "\n",
    "for con in document:\n",
    "#     print(con, '\\n')\n",
    "    if len(con) > 2:\n",
    "        questions.append(con[0])\n",
    "        replies = con[1:]\n",
    "        ans = ''\n",
    "        for rep in replies:\n",
    "            ans+= \" \" + rep\n",
    "            answers.append(ans)\n",
    "    elif len(con) == 2:\n",
    "        questions.append(con[0])\n",
    "        answers.append(con[1])\n",
    "cleaned_answers = []\n",
    "\n",
    "for i, ans in enumerate(answers):\n",
    "    if isinstance(ans, str):\n",
    "        cleaned_answers.append(ans)\n",
    "    else:\n",
    "        questions.pop(i)\n",
    "        \n",
    "#tags\n",
    "answers = []\n",
    "for i, ans in enumerate(cleaned_answers):\n",
    "    answers.append('<START>' + ans + '<END>')\n"
   ]
  },
  {
   "cell_type": "code",
   "execution_count": 42,
   "id": "9f1e0bae",
   "metadata": {},
   "outputs": [
    {
     "name": "stdout",
     "output_type": "stream",
     "text": [
      "Question: Peter , wash your hands first , and then have some dessert .  Mom , can I have some ice cream , Answer: <START>   Tom has gone to lunch .  I'll just try him again .  Do you want me to have him give you a call    No , but what time do you expect him back    He should be back in about forty minutes . <END>\n"
     ]
    }
   ],
   "source": [
    "print(f'Question: {questions[150]}, Answer: {answers[150]}')"
   ]
  },
  {
   "cell_type": "code",
   "execution_count": 53,
   "id": "7967090a",
   "metadata": {},
   "outputs": [
    {
     "name": "stdout",
     "output_type": "stream",
     "text": [
      "Vocab len: 18750\n"
     ]
    }
   ],
   "source": [
    "tokenizer = Tokenizer()\n",
    "tokenizer.fit_on_texts(questions + answers)\n",
    "vocab = list(tokenizer.word_index.items())\n",
    "print(f'Vocab len: {len(vocab)}')"
   ]
  },
  {
   "cell_type": "markdown",
   "id": "422e98bf",
   "metadata": {},
   "source": [
    "## Sample preparation"
   ]
  },
  {
   "cell_type": "code",
   "execution_count": null,
   "id": "fdda65d7",
   "metadata": {
    "collapsed": true
   },
   "outputs": [],
   "source": [
    "tokenized_questions = tokenizer.texts_to_sequences(questions)\n",
    "max_question_len =max([len(x) for x in tokenized_questions])\n"
   ]
  }
 ],
 "metadata": {
  "kernelspec": {
   "display_name": "Python 3",
   "language": "python",
   "name": "python3"
  },
  "language_info": {
   "codemirror_mode": {
    "name": "ipython",
    "version": 3
   },
   "file_extension": ".py",
   "mimetype": "text/x-python",
   "name": "python",
   "nbconvert_exporter": "python",
   "pygments_lexer": "ipython3",
   "version": "3.8.8"
  }
 },
 "nbformat": 4,
 "nbformat_minor": 5
}
