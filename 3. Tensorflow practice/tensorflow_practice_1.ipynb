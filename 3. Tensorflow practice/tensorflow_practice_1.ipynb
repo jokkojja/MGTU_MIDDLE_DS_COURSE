{
 "cells": [
  {
   "cell_type": "code",
   "execution_count": 1,
   "id": "183922c9",
   "metadata": {},
   "outputs": [],
   "source": [
    "import tensorflow as tf\n",
    "import datetime\n",
    "import os\n",
    "from tensorflow.keras import layers"
   ]
  },
  {
   "cell_type": "code",
   "execution_count": 2,
   "id": "ef5f8c3a",
   "metadata": {},
   "outputs": [],
   "source": [
    "str_contant = tf.constant('this is string')"
   ]
  },
  {
   "cell_type": "code",
   "execution_count": 3,
   "id": "b4c31af6",
   "metadata": {},
   "outputs": [
    {
     "name": "stdout",
     "output_type": "stream",
     "text": [
      "tf.Tensor(3, shape=(), dtype=int32)\n",
      "tf.Tensor([4 6], shape=(2,), dtype=int32)\n",
      "tf.Tensor(25, shape=(), dtype=int32)\n",
      "tf.Tensor(15, shape=(), dtype=int32)\n",
      "tf.Tensor([ 6 15 24], shape=(3,), dtype=int32)\n"
     ]
    }
   ],
   "source": [
    "print(tf.add(1,2))\n",
    "print(tf.add([1,2], [3,4]))\n",
    "print(tf.square(5))\n",
    "print(tf.reduce_sum([1,2,3,4,5]))\n",
    "print(tf.reduce_sum([[1,2,3], [4,5,6], [7,8,9]], axis = 1))"
   ]
  },
  {
   "cell_type": "code",
   "execution_count": 4,
   "id": "e2ba6fea",
   "metadata": {},
   "outputs": [],
   "source": [
    "x = tf.matmul([[2]], [[2,3]])"
   ]
  },
  {
   "cell_type": "code",
   "execution_count": 5,
   "id": "c25021fb",
   "metadata": {},
   "outputs": [
    {
     "data": {
      "text/plain": [
       "<tf.Tensor: shape=(1, 2), dtype=int32, numpy=array([[4, 6]], dtype=int32)>"
      ]
     },
     "execution_count": 5,
     "metadata": {},
     "output_type": "execute_result"
    }
   ],
   "source": [
    "x"
   ]
  },
  {
   "cell_type": "markdown",
   "id": "a939918f",
   "metadata": {},
   "source": [
    "## Numpy compatibility"
   ]
  },
  {
   "cell_type": "code",
   "execution_count": 6,
   "id": "4a5a8c75",
   "metadata": {},
   "outputs": [
    {
     "data": {
      "text/plain": [
       "<tf.Tensor: shape=(3, 3), dtype=float64, numpy=\n",
       "array([[42., 42., 42.],\n",
       "       [42., 42., 42.],\n",
       "       [42., 42., 42.]])>"
      ]
     },
     "execution_count": 6,
     "metadata": {},
     "output_type": "execute_result"
    }
   ],
   "source": [
    "import numpy as np\n",
    "\n",
    "arr = np.ones([3,3])\n",
    "tensor = tf.multiply(arr, 42)\n",
    "tensor"
   ]
  },
  {
   "cell_type": "code",
   "execution_count": 7,
   "id": "cc0b7642",
   "metadata": {},
   "outputs": [
    {
     "name": "stdout",
     "output_type": "stream",
     "text": [
      "[[43. 43. 43.]\n",
      " [43. 43. 43.]\n",
      " [43. 43. 43.]]\n"
     ]
    },
    {
     "data": {
      "text/plain": [
       "array([[42., 42., 42.],\n",
       "       [42., 42., 42.],\n",
       "       [42., 42., 42.]])"
      ]
     },
     "execution_count": 7,
     "metadata": {},
     "output_type": "execute_result"
    }
   ],
   "source": [
    "print(np.add(tensor, 1))\n",
    "tensor.numpy()"
   ]
  },
  {
   "cell_type": "markdown",
   "id": "2e5c8eab",
   "metadata": {},
   "source": [
    "## GPU"
   ]
  },
  {
   "cell_type": "code",
   "execution_count": 8,
   "id": "7836dc30",
   "metadata": {},
   "outputs": [
    {
     "name": "stdout",
     "output_type": "stream",
     "text": [
      "[PhysicalDevice(name='/physical_device:CPU:0', device_type='CPU')]\n"
     ]
    }
   ],
   "source": [
    "print(tf.config.experimental.list_physical_devices())"
   ]
  },
  {
   "cell_type": "code",
   "execution_count": 9,
   "id": "279dfbbb",
   "metadata": {},
   "outputs": [],
   "source": [
    "if tf.config.experimental.list_physical_devices('GPU'):\n",
    "    print('GPU is available')\n",
    "    with tf.device(\"GPU:0\"): #name of gpu device\n",
    "        x = tf.random.uniform([1000,1000])\n",
    "        assert x.device.endwith(\"GPU:0\")\n",
    "        x1 = x * x\n",
    "else:\n",
    "    x = tf.random.uniform([1000,1000])\n",
    "    x1 = x * x    "
   ]
  },
  {
   "cell_type": "markdown",
   "id": "c6403c7a",
   "metadata": {},
   "source": [
    "## Datasets"
   ]
  },
  {
   "cell_type": "code",
   "execution_count": 10,
   "id": "76a08152",
   "metadata": {},
   "outputs": [],
   "source": [
    "ds_tensor = tf.data.Dataset.from_tensor_slices([1,2,3,4,5,6])"
   ]
  },
  {
   "cell_type": "code",
   "execution_count": 11,
   "id": "5a0e610f",
   "metadata": {},
   "outputs": [
    {
     "name": "stdout",
     "output_type": "stream",
     "text": [
      "1\n",
      "2\n",
      "3\n",
      "4\n",
      "5\n",
      "6\n"
     ]
    }
   ],
   "source": [
    "for elem in ds_tensor:\n",
    "    print(elem.numpy())"
   ]
  },
  {
   "cell_type": "code",
   "execution_count": 12,
   "id": "6b3be4dc",
   "metadata": {},
   "outputs": [],
   "source": [
    "ds_tensor = ds_tensor.map(tf.square).shuffle(4).batch(2)"
   ]
  },
  {
   "cell_type": "code",
   "execution_count": 13,
   "id": "3548bfc3",
   "metadata": {},
   "outputs": [
    {
     "name": "stdout",
     "output_type": "stream",
     "text": [
      "tf.Tensor([ 1 16], shape=(2,), dtype=int32)\n",
      "tf.Tensor([ 4 25], shape=(2,), dtype=int32)\n",
      "tf.Tensor([36  9], shape=(2,), dtype=int32)\n"
     ]
    }
   ],
   "source": [
    "for i in ds_tensor:\n",
    "    print(i)"
   ]
  },
  {
   "cell_type": "code",
   "execution_count": 14,
   "id": "ba101587",
   "metadata": {},
   "outputs": [],
   "source": [
    "# create csv\n",
    "import tempfile\n",
    "_, name = tempfile.mkstemp()\n",
    "with open(name, 'w+') as file:\n",
    "    file.write(\"\"\"line 1\n",
    "    line 2\n",
    "    line 3\n",
    "    line 4\n",
    "    line 5\n",
    "    line 6\n",
    "    line 7\n",
    "    line 8\n",
    "    line 9    \"\"\")\n",
    "\n",
    "ds_file = tf.data.TextLineDataset(name)"
   ]
  },
  {
   "cell_type": "code",
   "execution_count": 15,
   "id": "62e0f8f5",
   "metadata": {},
   "outputs": [],
   "source": [
    "ds_file = ds_file.batch(3)"
   ]
  },
  {
   "cell_type": "code",
   "execution_count": 16,
   "id": "1be67a3a",
   "metadata": {},
   "outputs": [
    {
     "name": "stdout",
     "output_type": "stream",
     "text": [
      "tf.Tensor([b'line 1' b'    line 2' b'    line 3'], shape=(3,), dtype=string)\n",
      "tf.Tensor([b'    line 4' b'    line 5' b'    line 6'], shape=(3,), dtype=string)\n",
      "tf.Tensor([b'    line 7' b'    line 8' b'    line 9    '], shape=(3,), dtype=string)\n"
     ]
    }
   ],
   "source": [
    "for i in ds_file:\n",
    "    print(i)"
   ]
  },
  {
   "cell_type": "markdown",
   "id": "14210d91",
   "metadata": {},
   "source": [
    "## Session"
   ]
  },
  {
   "cell_type": "code",
   "execution_count": 17,
   "id": "8172348a",
   "metadata": {},
   "outputs": [],
   "source": [
    "tf.compat.v1.disable_eager_execution()\n",
    "const = tf.constant(1.0)"
   ]
  },
  {
   "cell_type": "code",
   "execution_count": 18,
   "id": "3b1cf14c",
   "metadata": {},
   "outputs": [
    {
     "name": "stdout",
     "output_type": "stream",
     "text": [
      "1.0\n"
     ]
    }
   ],
   "source": [
    "with tf.compat.v1.Session() as sess: # first way\n",
    "    output = sess.run(const)\n",
    "    print(output)"
   ]
  },
  {
   "cell_type": "code",
   "execution_count": 19,
   "id": "ded9b06d",
   "metadata": {},
   "outputs": [],
   "source": [
    "x = tf.constant([1,2,3,4,5])\n",
    "y = tf.constant([6,7,8,9,10])"
   ]
  },
  {
   "cell_type": "code",
   "execution_count": 20,
   "id": "9ec6595b",
   "metadata": {},
   "outputs": [
    {
     "data": {
      "text/plain": [
       "<tf.Tensor 'Mul:0' shape=(5,) dtype=int32>"
      ]
     },
     "execution_count": 20,
     "metadata": {},
     "output_type": "execute_result"
    }
   ],
   "source": [
    "result = tf.multiply(x,y)\n",
    "result"
   ]
  },
  {
   "cell_type": "code",
   "execution_count": 21,
   "id": "db664933",
   "metadata": {},
   "outputs": [
    {
     "name": "stdout",
     "output_type": "stream",
     "text": [
      "[ 6 14 24 36 50]\n"
     ]
    }
   ],
   "source": [
    "sess = tf.compat.v1.Session() # second way\n",
    "print(sess.run(result))\n",
    "sess.close()"
   ]
  },
  {
   "cell_type": "markdown",
   "id": "3a177a45",
   "metadata": {},
   "source": [
    "## Variables"
   ]
  },
  {
   "cell_type": "code",
   "execution_count": 22,
   "id": "d8ecfc3c",
   "metadata": {},
   "outputs": [
    {
     "name": "stdout",
     "output_type": "stream",
     "text": [
      "<tf.Variable 'scalar:0' shape=() dtype=int32> ()\n",
      "\n",
      "<tf.Variable 'vector:0' shape=(3,) dtype=int32> (3,)\n",
      "\n",
      "<tf.Variable 'matrix:0' shape=(3, 3) dtype=int32> (3, 3)\n"
     ]
    }
   ],
   "source": [
    "a = tf.Variable(1, name='scalar')\n",
    "b = tf.Variable([1,2,3], name='vector')\n",
    "t_2 = tf.Variable([[1,2,3], [1,1,0], [1,0,1]], name='matrix')\n",
    "\n",
    "print(a, a.get_shape())\n",
    "print()\n",
    "print(b, b.get_shape())\n",
    "print()\n",
    "print(t_2, t_2.get_shape())"
   ]
  },
  {
   "cell_type": "code",
   "execution_count": 23,
   "id": "037bfddf",
   "metadata": {},
   "outputs": [
    {
     "name": "stdout",
     "output_type": "stream",
     "text": [
      "11\n"
     ]
    }
   ],
   "source": [
    "x = tf.Variable(1)\n",
    "y = tf.Variable(10)\n",
    "\n",
    "op1 = tf.add(x,y) #sum\n",
    "\n",
    "init = tf.compat.v1.variables_initializer([x, y], name='init')\n",
    "\n",
    "with tf.compat.v1.Session() as sess:\n",
    "    sess.run(init)\n",
    "    print(sess.run(op1))"
   ]
  },
  {
   "cell_type": "code",
   "execution_count": 24,
   "id": "03893958",
   "metadata": {},
   "outputs": [
    {
     "name": "stdout",
     "output_type": "stream",
     "text": [
      "11\n"
     ]
    }
   ],
   "source": [
    "x = [[2]]\n",
    "m = tf.matmul(x, x)\n",
    "\n",
    "with tf.compat.v1.Session() as sess:\n",
    "    sess.run(init)\n",
    "    print(sess.run(op1))"
   ]
  },
  {
   "cell_type": "markdown",
   "id": "5b10e6b5",
   "metadata": {},
   "source": [
    "## Placeholders"
   ]
  },
  {
   "cell_type": "code",
   "execution_count": 25,
   "id": "a5f3eca7",
   "metadata": {},
   "outputs": [
    {
     "name": "stdout",
     "output_type": "stream",
     "text": [
      "[[263.3604  245.26892 263.04346 ... 253.80496 258.62463 249.07329]\n",
      " [272.35074 256.03973 279.96286 ... 264.80438 267.4665  267.59644]\n",
      " [250.07146 238.83566 255.4855  ... 246.5055  244.01212 243.69691]\n",
      " ...\n",
      " [259.07614 249.6696  268.4033  ... 255.83765 255.97946 249.19551]\n",
      " [267.7468  251.79054 271.07495 ... 253.68735 262.23676 258.95782]\n",
      " [257.15546 236.0312  261.01367 ... 249.39404 252.57635 249.80923]]\n"
     ]
    }
   ],
   "source": [
    "x = tf.compat.v1.placeholder(tf.float32, shape=[1024, 1024]) #place for variable\n",
    "\n",
    "y = tf.matmul(x,x) # define operation\n",
    "\n",
    "with tf.compat.v1.Session() as sess:\n",
    "    rand_array = np.random.rand(1024, 1024)\n",
    "    \n",
    "    print(sess.run(y, feed_dict = {x: rand_array}))"
   ]
  },
  {
   "cell_type": "markdown",
   "id": "5d6ab069",
   "metadata": {},
   "source": [
    "## Tensorboard"
   ]
  },
  {
   "cell_type": "code",
   "execution_count": 26,
   "id": "2aeb531f",
   "metadata": {},
   "outputs": [],
   "source": [
    "tf.compat.v1.reset_default_graph() # reset variables above"
   ]
  },
  {
   "cell_type": "code",
   "execution_count": 27,
   "id": "872646f6",
   "metadata": {},
   "outputs": [],
   "source": [
    "x = tf.constant(1.0, name='input')\n",
    "\n",
    "w = tf.Variable(0.8, name='weight')\n",
    "\n",
    "y = tf.math.multiply(w, x, name='output')"
   ]
  },
  {
   "cell_type": "code",
   "execution_count": 28,
   "id": "e0f5534f",
   "metadata": {},
   "outputs": [],
   "source": [
    "init = tf.compat.v1.global_variables_initializer()\n",
    "sess1 = tf.compat.v1.Session()\n",
    "sess1.run(init)"
   ]
  },
  {
   "cell_type": "code",
   "execution_count": 29,
   "id": "9a1826db",
   "metadata": {},
   "outputs": [
    {
     "data": {
      "text/plain": [
       "0.8"
      ]
     },
     "execution_count": 29,
     "metadata": {},
     "output_type": "execute_result"
    }
   ],
   "source": [
    "sess1.run(y)"
   ]
  },
  {
   "cell_type": "code",
   "execution_count": 30,
   "id": "7eefe052",
   "metadata": {},
   "outputs": [],
   "source": [
    "%load_ext tensorboard"
   ]
  },
  {
   "cell_type": "code",
   "execution_count": 31,
   "id": "9a0fe9ae",
   "metadata": {},
   "outputs": [],
   "source": [
    "logdir = os.path.join('logs', datetime.datetime.now().strftime(\"%Y%m%d - %H%M%S\"))\n",
    "summary_writer = tf.compat.v1.summary.FileWriter(logdir, sess1.graph)"
   ]
  },
  {
   "cell_type": "code",
   "execution_count": 32,
   "id": "1f14aff7",
   "metadata": {},
   "outputs": [
    {
     "data": {
      "text/html": [
       "\n",
       "      <iframe id=\"tensorboard-frame-6d45d8d72c14909a\" width=\"100%\" height=\"800\" frameborder=\"0\">\n",
       "      </iframe>\n",
       "      <script>\n",
       "        (function() {\n",
       "          const frame = document.getElementById(\"tensorboard-frame-6d45d8d72c14909a\");\n",
       "          const url = new URL(\"/\", window.location);\n",
       "          const port = 6006;\n",
       "          if (port) {\n",
       "            url.port = port;\n",
       "          }\n",
       "          frame.src = url;\n",
       "        })();\n",
       "      </script>\n",
       "    "
      ],
      "text/plain": [
       "<IPython.core.display.HTML object>"
      ]
     },
     "metadata": {},
     "output_type": "display_data"
    }
   ],
   "source": [
    "%tensorboard --logdir logs"
   ]
  },
  {
   "cell_type": "code",
   "execution_count": 33,
   "id": "48c8616f",
   "metadata": {},
   "outputs": [],
   "source": [
    "sess1.close()"
   ]
  },
  {
   "cell_type": "markdown",
   "id": "f31eef3d",
   "metadata": {},
   "source": [
    "## Train model"
   ]
  },
  {
   "cell_type": "code",
   "execution_count": 112,
   "id": "6fe013bf",
   "metadata": {},
   "outputs": [],
   "source": [
    "tf.compat.v1.reset_default_graph()"
   ]
  },
  {
   "cell_type": "code",
   "execution_count": 113,
   "id": "64f2d45a",
   "metadata": {},
   "outputs": [],
   "source": [
    "inp = tf.constant([1.2, 3.0, -2.2])\n",
    "\n",
    "weight = tf.Variable([1., 2., 3.], dtype=tf.float32)\n",
    "\n",
    "out_true = tf.constant(0.)\n",
    "out_pred = tf.reduce_sum(inp*weight)\n",
    "\n",
    "loss = (out_pred - out_true)**2\n",
    "\n",
    "init = tf.compat.v1.global_variables_initializer()\n",
    "\n",
    "sess = tf.compat.v1.Session()\n",
    "\n",
    "optim = tf.compat.v1.train.GradientDescentOptimizer(learning_rate = 0.025)\n",
    "\n",
    "compute_grad = optim.compute_gradients(loss, var_list = [weight])"
   ]
  },
  {
   "cell_type": "code",
   "execution_count": 114,
   "id": "3c87e870",
   "metadata": {},
   "outputs": [
    {
     "name": "stdout",
     "output_type": "stream",
     "text": [
      "0.5999994\n",
      "0.3599993\n"
     ]
    }
   ],
   "source": [
    "sess.run(init)\n",
    "print(sess.run(out_pred))\n",
    "print(sess.run(loss))"
   ]
  },
  {
   "cell_type": "code",
   "execution_count": 115,
   "id": "cdc10e82",
   "metadata": {},
   "outputs": [
    {
     "data": {
      "text/plain": [
       "[(array([ 1.4399986,  3.5999966, -2.6399975], dtype=float32),\n",
       "  array([1., 1., 1.], dtype=float32))]"
      ]
     },
     "execution_count": 115,
     "metadata": {},
     "output_type": "execute_result"
    }
   ],
   "source": [
    "sess.run(compute_grad, feed_dict = {weight: [1.0, 1.0, 1.0]})"
   ]
  },
  {
   "cell_type": "code",
   "execution_count": 116,
   "id": "d9462aca",
   "metadata": {},
   "outputs": [
    {
     "name": "stdout",
     "output_type": "stream",
     "text": [
      "[0.96400005 1.9100001  3.066     ]\n",
      "0.14160061\n",
      "0.020050732\n"
     ]
    }
   ],
   "source": [
    "# one step\n",
    "sess.run(optim.apply_gradients(compute_grad))\n",
    "print(sess.run(weight))\n",
    "print(sess.run(out_pred))\n",
    "print(sess.run(loss))"
   ]
  },
  {
   "cell_type": "code",
   "execution_count": 117,
   "id": "ee5f85b7",
   "metadata": {},
   "outputs": [
    {
     "name": "stdout",
     "output_type": "stream",
     "text": [
      "Step: 1, loss: 0.0011167109478265047, pred: 0.0334172248840332\n",
      "Step: 2, loss: 6.219546048669145e-05, pred: 0.007886409759521484\n",
      "Step: 3, loss: 3.461901542323176e-06, pred: 0.0018606185913085938\n",
      "Step: 4, loss: 1.9328672351548448e-07, pred: 0.00043964385986328125\n",
      "Step: 5, loss: 1.080570655176416e-08, pred: 0.00010395050048828125\n",
      "Step: 6, loss: 5.684341886080801e-10, pred: 2.384185791015625e-05\n",
      "Step: 7, loss: 3.2741809263825417e-11, pred: 5.7220458984375e-06\n",
      "Step: 8, loss: 2.0463630789890885e-12, pred: 1.430511474609375e-06\n",
      "Step: 9, loss: 0.0, pred: 0.0\n",
      "Step: 10, loss: 0.0, pred: 0.0\n"
     ]
    }
   ],
   "source": [
    "train_step = optim.minimize(loss)\n",
    "for i in range(10):\n",
    "    sess.run(train_step)\n",
    "    print(f'Step: {i+1}, loss: {sess.run(loss)}, pred: {sess.run(out_pred)}')"
   ]
  },
  {
   "cell_type": "code",
   "execution_count": 118,
   "id": "2bba5621",
   "metadata": {},
   "outputs": [
    {
     "data": {
      "text/plain": [
       "0.0"
      ]
     },
     "execution_count": 118,
     "metadata": {},
     "output_type": "execute_result"
    }
   ],
   "source": [
    "sess.run(out_pred)"
   ]
  },
  {
   "cell_type": "code",
   "execution_count": 119,
   "id": "e0f6f4cb",
   "metadata": {},
   "outputs": [],
   "source": [
    "# отслеживание обучение\n",
    "summary_y = tf.compat.v1.summary.scalar('upd_out_pred', out_pred)\n",
    "summary_t = tf.compat.v1.summary.scalar('upd_loss', loss)\n",
    "merged = tf.compat.v1.summary.merge_all()"
   ]
  },
  {
   "cell_type": "code",
   "execution_count": 120,
   "id": "755dc488",
   "metadata": {},
   "outputs": [],
   "source": [
    "summary_writed = tf.compat.v1.summary.FileWriter('education')\n",
    "sess.run(tf.compat.v1.global_variables_initializer())\n",
    "for i in range(10):\n",
    "    summary = sess.run(merged)\n",
    "    summary_writer.add_summary(summary, i)\n",
    "    sess.run(train_step)"
   ]
  },
  {
   "cell_type": "code",
   "execution_count": 121,
   "id": "47748994",
   "metadata": {},
   "outputs": [
    {
     "data": {
      "text/plain": [
       "Reusing TensorBoard on port 6008 (pid 1032), started 0:01:26 ago. (Use '!kill 1032' to kill it.)"
      ]
     },
     "metadata": {},
     "output_type": "display_data"
    },
    {
     "data": {
      "text/html": [
       "\n",
       "      <iframe id=\"tensorboard-frame-f59fc49e18926157\" width=\"100%\" height=\"800\" frameborder=\"0\">\n",
       "      </iframe>\n",
       "      <script>\n",
       "        (function() {\n",
       "          const frame = document.getElementById(\"tensorboard-frame-f59fc49e18926157\");\n",
       "          const url = new URL(\"/\", window.location);\n",
       "          const port = 6008;\n",
       "          if (port) {\n",
       "            url.port = port;\n",
       "          }\n",
       "          frame.src = url;\n",
       "        })();\n",
       "      </script>\n",
       "    "
      ],
      "text/plain": [
       "<IPython.core.display.HTML object>"
      ]
     },
     "metadata": {},
     "output_type": "display_data"
    }
   ],
   "source": [
    "%tensorboard --logdir education"
   ]
  },
  {
   "cell_type": "code",
   "execution_count": null,
   "id": "bf0ced31",
   "metadata": {},
   "outputs": [],
   "source": []
  }
 ],
 "metadata": {
  "kernelspec": {
   "display_name": "Python 3",
   "language": "python",
   "name": "python3"
  },
  "language_info": {
   "codemirror_mode": {
    "name": "ipython",
    "version": 3
   },
   "file_extension": ".py",
   "mimetype": "text/x-python",
   "name": "python",
   "nbconvert_exporter": "python",
   "pygments_lexer": "ipython3",
   "version": "3.8.8"
  }
 },
 "nbformat": 4,
 "nbformat_minor": 5
}
