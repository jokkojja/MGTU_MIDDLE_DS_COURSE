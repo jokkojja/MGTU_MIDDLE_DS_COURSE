{
 "cells": [
  {
   "cell_type": "markdown",
   "id": "cad127ff",
   "metadata": {},
   "source": [
    "# Hopfield NN"
   ]
  },
  {
   "cell_type": "code",
   "execution_count": 10,
   "id": "57c3567a",
   "metadata": {},
   "outputs": [],
   "source": [
    "import numpy as np\n",
    "import itertools\n",
    "\n",
    "\n",
    "class NM:\n",
    "    def __init__(self, L):\n",
    "        self.weight_matrix = np.zeros((15, 15)) # set weight matrix\n",
    "        self.L = L # sample for memory in asocial memory\n",
    "        \n",
    "    def train(self):\n",
    "        for i, _ in enumerate(self.weight_matrix):\n",
    "            for j, _  in enumerate(self.weight_matrix):\n",
    "                if i != j:\n",
    "                    for k, _  in enumerate(L):\n",
    "                        self.weight_matrix[i][j] += self.L[k][j] * self.L[k][i]\n",
    "#     def train(self):\n",
    "#         for i, j in itertools.combinations(self.weight_matrix, 2):\n",
    "#             for k, _  in enumerate(L):\n",
    "#                 self.weight_matrix[i][j] += self.L[k][j] * self.L[k][i]\n",
    "                    \n",
    "    def check(self, vector_x):\n",
    "        assert vector_x.shape[0] == self.weight_matrix.shape[0], \"Invalid size\"\n",
    "        y = np.ones(15)\n",
    "        for i, _ in enumerate(self.weight_matrix):\n",
    "            net = 0\n",
    "            for j, _ in enumerate(self.weight_matrix):\n",
    "                net += self.weight_matrix[j][i]*vector_x[j]\n",
    "            if net > 0:\n",
    "                y[i] = 1\n",
    "            elif net < 0:\n",
    "                y[i] = -1\n",
    "                \n",
    "            if y[i] < 0:\n",
    "                print('   ', end = '')\n",
    "            else:\n",
    "                print(' X ', end = '')\n",
    "            if (i+1) % 3 == 0:\n",
    "                print('\\n')\n",
    "\n",
    "\n",
    "            \n",
    "        \n",
    "    \n",
    "    def show_weight_matrix(self):\n",
    "        print(\"W =\\n\", self.weight_matrix)\n",
    "\n",
    "    def show_sample(self):\n",
    "        print(\"L =\\n\", self.L)\n",
    "        "
   ]
  },
  {
   "cell_type": "code",
   "execution_count": null,
   "id": "b5bba12e",
   "metadata": {},
   "outputs": [],
   "source": []
  },
  {
   "cell_type": "code",
   "execution_count": 11,
   "id": "5785340f",
   "metadata": {},
   "outputs": [],
   "source": [
    "W = np.array([])\n",
    "L = np.array([[-1, 1, -1, \n",
    "               1,-1, -1,\n",
    "               1, 1, -1,\n",
    "               1,-1,  1,\n",
    "              -1, 1, -1],#6, shape 3x5, linearized 15, accordingly weight matrix shape 15x15\n",
    "            \n",
    "            [ 1,  1, 1,\n",
    "             -1, -1, 1,\n",
    "             -1,  1,-1,\n",
    "             -1,  1,-1,\n",
    "             -1,  1,-1],#7\n",
    "             \n",
    "             \n",
    "            [1, -1, -1,\n",
    "             1, -1,  1,\n",
    "             1, -1,  1,\n",
    "             1,  1,  1,\n",
    "            -1, -1,  1]]) #4"
   ]
  },
  {
   "cell_type": "code",
   "execution_count": 12,
   "id": "92993b1f",
   "metadata": {},
   "outputs": [],
   "source": [
    "# pic = np.array([-1, 1, 1,\n",
    "#                  1,-1,-1,\n",
    "#                  1,-1,-1, \n",
    "#                  1, 1, 1, \n",
    "#                  1, 1, 1])\n",
    "# pic = np.array(\n",
    "#       [-1, 1, -1, \n",
    "#         1,-1, -1,\n",
    "#         1, 1, -1,\n",
    "#         1,-1,  1,\n",
    "#        1, 1, 1])#6\n",
    "\n",
    "pic = np.array(\n",
    "            [1, -1, -1,\n",
    "             1, -1,  1,\n",
    "             1, -1,  1,\n",
    "             1,  -1,  1,\n",
    "            -1, 1,  1])#4"
   ]
  },
  {
   "cell_type": "code",
   "execution_count": 13,
   "id": "161f7bdc",
   "metadata": {
    "scrolled": true
   },
   "outputs": [
    {
     "ename": "IndexError",
     "evalue": "arrays used as indices must be of integer (or boolean) type",
     "output_type": "error",
     "traceback": [
      "\u001b[0;31m---------------------------------------------------------------------------\u001b[0m",
      "\u001b[0;31mIndexError\u001b[0m                                Traceback (most recent call last)",
      "\u001b[0;32m<ipython-input-13-dc445d41bbfd>\u001b[0m in \u001b[0;36m<module>\u001b[0;34m\u001b[0m\n\u001b[1;32m      1\u001b[0m \u001b[0mtest\u001b[0m \u001b[0;34m=\u001b[0m \u001b[0mNM\u001b[0m\u001b[0;34m(\u001b[0m\u001b[0mL\u001b[0m\u001b[0;34m)\u001b[0m\u001b[0;34m\u001b[0m\u001b[0;34m\u001b[0m\u001b[0m\n\u001b[0;32m----> 2\u001b[0;31m \u001b[0mtest\u001b[0m\u001b[0;34m.\u001b[0m\u001b[0mtrain\u001b[0m\u001b[0;34m(\u001b[0m\u001b[0;34m)\u001b[0m\u001b[0;34m\u001b[0m\u001b[0;34m\u001b[0m\u001b[0m\n\u001b[0m\u001b[1;32m      3\u001b[0m \u001b[0mtest\u001b[0m\u001b[0;34m.\u001b[0m\u001b[0mshow_weight_matrix\u001b[0m\u001b[0;34m(\u001b[0m\u001b[0;34m)\u001b[0m\u001b[0;34m\u001b[0m\u001b[0;34m\u001b[0m\u001b[0m\n\u001b[1;32m      4\u001b[0m \u001b[0mtest\u001b[0m\u001b[0;34m.\u001b[0m\u001b[0mshow_sample\u001b[0m\u001b[0;34m(\u001b[0m\u001b[0;34m)\u001b[0m\u001b[0;34m\u001b[0m\u001b[0;34m\u001b[0m\u001b[0m\n\u001b[1;32m      5\u001b[0m \u001b[0mprint\u001b[0m\u001b[0;34m(\u001b[0m\u001b[0;34m)\u001b[0m\u001b[0;34m\u001b[0m\u001b[0;34m\u001b[0m\u001b[0m\n",
      "\u001b[0;32m<ipython-input-10-cdb189838082>\u001b[0m in \u001b[0;36mtrain\u001b[0;34m(self)\u001b[0m\n\u001b[1;32m     17\u001b[0m         \u001b[0;32mfor\u001b[0m \u001b[0mi\u001b[0m\u001b[0;34m,\u001b[0m \u001b[0mj\u001b[0m \u001b[0;32min\u001b[0m \u001b[0mitertools\u001b[0m\u001b[0;34m.\u001b[0m\u001b[0mcombinations\u001b[0m\u001b[0;34m(\u001b[0m\u001b[0mself\u001b[0m\u001b[0;34m.\u001b[0m\u001b[0mweight_matrix\u001b[0m\u001b[0;34m,\u001b[0m \u001b[0;36m2\u001b[0m\u001b[0;34m)\u001b[0m\u001b[0;34m:\u001b[0m\u001b[0;34m\u001b[0m\u001b[0;34m\u001b[0m\u001b[0m\n\u001b[1;32m     18\u001b[0m             \u001b[0;32mfor\u001b[0m \u001b[0mk\u001b[0m\u001b[0;34m,\u001b[0m \u001b[0m_\u001b[0m  \u001b[0;32min\u001b[0m \u001b[0menumerate\u001b[0m\u001b[0;34m(\u001b[0m\u001b[0mL\u001b[0m\u001b[0;34m)\u001b[0m\u001b[0;34m:\u001b[0m\u001b[0;34m\u001b[0m\u001b[0;34m\u001b[0m\u001b[0m\n\u001b[0;32m---> 19\u001b[0;31m                 \u001b[0mself\u001b[0m\u001b[0;34m.\u001b[0m\u001b[0mweight_matrix\u001b[0m\u001b[0;34m[\u001b[0m\u001b[0mi\u001b[0m\u001b[0;34m]\u001b[0m\u001b[0;34m[\u001b[0m\u001b[0mj\u001b[0m\u001b[0;34m]\u001b[0m \u001b[0;34m+=\u001b[0m \u001b[0mself\u001b[0m\u001b[0;34m.\u001b[0m\u001b[0mL\u001b[0m\u001b[0;34m[\u001b[0m\u001b[0mk\u001b[0m\u001b[0;34m]\u001b[0m\u001b[0;34m[\u001b[0m\u001b[0mj\u001b[0m\u001b[0;34m]\u001b[0m \u001b[0;34m*\u001b[0m \u001b[0mself\u001b[0m\u001b[0;34m.\u001b[0m\u001b[0mL\u001b[0m\u001b[0;34m[\u001b[0m\u001b[0mk\u001b[0m\u001b[0;34m]\u001b[0m\u001b[0;34m[\u001b[0m\u001b[0mi\u001b[0m\u001b[0;34m]\u001b[0m\u001b[0;34m\u001b[0m\u001b[0;34m\u001b[0m\u001b[0m\n\u001b[0m\u001b[1;32m     20\u001b[0m \u001b[0;34m\u001b[0m\u001b[0m\n\u001b[1;32m     21\u001b[0m     \u001b[0;32mdef\u001b[0m \u001b[0mcheck\u001b[0m\u001b[0;34m(\u001b[0m\u001b[0mself\u001b[0m\u001b[0;34m,\u001b[0m \u001b[0mvector_x\u001b[0m\u001b[0;34m)\u001b[0m\u001b[0;34m:\u001b[0m\u001b[0;34m\u001b[0m\u001b[0;34m\u001b[0m\u001b[0m\n",
      "\u001b[0;31mIndexError\u001b[0m: arrays used as indices must be of integer (or boolean) type"
     ]
    }
   ],
   "source": [
    "test = NM(L)\n",
    "test.train()\n",
    "test.show_weight_matrix()\n",
    "test.show_sample()\n",
    "print()\n",
    "print(\"INPUT = \")\n",
    "for i, value in enumerate(pic):\n",
    "    if value < 0:\n",
    "        print('   ', end = '')\n",
    "    else:\n",
    "        print(' X ', end = '')\n",
    "    if (i+1) % 3 == 0:\n",
    "        print('\\n')\n",
    "print()\n",
    "print(\"U = \")\n",
    "test.check(pic)"
   ]
  },
  {
   "cell_type": "code",
   "execution_count": 15,
   "id": "2f1427af",
   "metadata": {},
   "outputs": [
    {
     "name": "stdout",
     "output_type": "stream",
     "text": [
      "0 ('a', 'b')\n",
      "1 ('a', 'c')\n",
      "2 ('a', 'd')\n",
      "3 ('b', 'c')\n",
      "4 ('b', 'd')\n",
      "5 ('c', 'd')\n"
     ]
    }
   ],
   "source": [
    "for i, j in enumerate(itertools.combinations('abcd', 2)):\n",
    "    print(i, j)"
   ]
  },
  {
   "cell_type": "code",
   "execution_count": null,
   "id": "74389b90",
   "metadata": {},
   "outputs": [],
   "source": []
  }
 ],
 "metadata": {
  "kernelspec": {
   "display_name": "Python 3",
   "language": "python",
   "name": "python3"
  },
  "language_info": {
   "codemirror_mode": {
    "name": "ipython",
    "version": 3
   },
   "file_extension": ".py",
   "mimetype": "text/x-python",
   "name": "python",
   "nbconvert_exporter": "python",
   "pygments_lexer": "ipython3",
   "version": "3.8.8"
  }
 },
 "nbformat": 4,
 "nbformat_minor": 5
}
